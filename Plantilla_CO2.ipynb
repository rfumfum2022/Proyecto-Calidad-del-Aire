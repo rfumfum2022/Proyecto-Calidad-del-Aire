{
  "cells": [
    {
      "cell_type": "markdown",
      "metadata": {
        "id": "view-in-github",
        "colab_type": "text"
      },
      "source": [
        "<a href=\"https://colab.research.google.com/github/rfumfum2022/Proyecto-Calidad-del-Aire/blob/main/Plantilla_CO2.ipynb\" target=\"_parent\"><img src=\"https://colab.research.google.com/assets/colab-badge.svg\" alt=\"Open In Colab\"/></a>"
      ]
    },
    {
      "cell_type": "markdown",
      "id": "3d43358e-daee-4dcd-b166-4f041b290a8d",
      "metadata": {
        "tags": [],
        "id": "3d43358e-daee-4dcd-b166-4f041b290a8d"
      },
      "source": [
        "<html>\n",
        "  <header>\n",
        "    <table>\n",
        "      <th>\n",
        "        <a href='https://www3.gobiernodecanarias.org/medusa/edublog/iesandresbello/' title='WEB I.E.S. ANDRéS BELLO'>   \n",
        "         <img src='https://i0.wp.com/www3.gobiernodecanarias.org/medusa/edublog/iesandresbello/wp-content/uploads/sites/121/2021/09/logo-ab-png.png?fit=512%2C511&ssl=1' width='90' hight='90'>   \n",
        "      </th>\n",
        "      <th> \n",
        "         <a href='https://thingspeak.com/login?skipSSOCheck=true' title='WEB THINGSPEAK'>  \n",
        "         <style> h1 { color: #FF0000; } </style>\n",
        "            <h1 style=\"color:blue;\">PLANTILLA TRATAMIENTO DE DATOS CO2 THINGSPEAK</h1>\n",
        "          </a>  \n",
        "           <a href='https://www3.gobiernodecanarias.org/medusa/edublog/iesandresbello/' title='WEB I.E.S. ANDRéS BELLO'>     \n",
        "             <h3>I.E.S. ANDRéS BELLO (38006150)</h3>\n",
        "             </a>\n",
        "      </th>   \n",
        "        </table>   \n",
        "    </header>\n",
        "</htlm>\n",
        "\n",
        "\n",
        "---\n",
        "\n"
      ]
    },
    {
      "cell_type": "markdown",
      "source": [
        "***ACCESO AL DRIVE DE LA CUENTA DE GOOGLE***\n",
        "\n",
        "---\n",
        "\n"
      ],
      "metadata": {
        "id": "1wLtsEsGmF7U"
      },
      "id": "1wLtsEsGmF7U"
    },
    {
      "cell_type": "code",
      "source": [
        "from google.colab import drive\n",
        "drive.mount('/content/drive')"
      ],
      "metadata": {
        "colab": {
          "base_uri": "https://localhost:8080/"
        },
        "id": "LCjXahB8rszM",
        "outputId": "bcee8be7-9eb6-4e28-9f75-bda5cd088a58"
      },
      "id": "LCjXahB8rszM",
      "execution_count": null,
      "outputs": [
        {
          "output_type": "stream",
          "name": "stdout",
          "text": [
            "Drive already mounted at /content/drive; to attempt to forcibly remount, call drive.mount(\"/content/drive\", force_remount=True).\n"
          ]
        }
      ]
    },
    {
      "cell_type": "markdown",
      "source": [
        "\n",
        "\n",
        "---\n",
        "\n",
        "\n",
        "INSTALACIóN DE LAS ***LIBRERíAS*** NECESARIAS PARA PODER IMPORTAR LOS \n",
        "***MóDULOS***\n",
        "\n",
        "---\n",
        "\n"
      ],
      "metadata": {
        "id": "xJFc61SanMpw"
      },
      "id": "xJFc61SanMpw"
    },
    {
      "cell_type": "code",
      "source": [
        "!pip3 install hvplot"
      ],
      "metadata": {
        "id": "olvzt4U4tHzj"
      },
      "id": "olvzt4U4tHzj",
      "execution_count": null,
      "outputs": []
    },
    {
      "cell_type": "code",
      "execution_count": null,
      "id": "576e3b93-fd02-4553-afa5-7653c367d835",
      "metadata": {
        "id": "576e3b93-fd02-4553-afa5-7653c367d835"
      },
      "outputs": [],
      "source": [
        "!pip3 install matplotlib"
      ]
    },
    {
      "cell_type": "code",
      "execution_count": null,
      "id": "341d51f8-7c81-4889-bc0c-7fc0d798ff94",
      "metadata": {
        "id": "341d51f8-7c81-4889-bc0c-7fc0d798ff94"
      },
      "outputs": [],
      "source": [
        "!pip3 install seaborn"
      ]
    },
    {
      "cell_type": "markdown",
      "source": [
        "\n",
        "\n",
        "---\n",
        "\n",
        "\n",
        "IMPORTAMOS LOS ***MóDULOS*** DE LA ***LIBRERíAS*** QUE NECESITAMOS PARA PODER \n",
        "TRABAJAR\n",
        "\n",
        "\n",
        "---\n",
        "\n"
      ],
      "metadata": {
        "id": "2UIWJQNrrboh"
      },
      "id": "2UIWJQNrrboh"
    },
    {
      "cell_type": "code",
      "execution_count": null,
      "id": "228a3513-4179-4776-89e5-8e0389a4a282",
      "metadata": {
        "id": "228a3513-4179-4776-89e5-8e0389a4a282"
      },
      "outputs": [],
      "source": [
        "import pandas as pd\n",
        "import numpy as np\n",
        "import panel as pn\n",
        "pn.extension('tabulator')\n",
        "\n",
        "import hvplot.pandas"
      ]
    },
    {
      "cell_type": "code",
      "execution_count": null,
      "id": "ba4d54cd-1081-4a53-a931-3eb07a94a9a3",
      "metadata": {
        "id": "ba4d54cd-1081-4a53-a931-3eb07a94a9a3"
      },
      "outputs": [],
      "source": [
        "import matplotlib.pyplot as plt\n",
        "import seaborn as sns\n",
        "import matplotlib.dates as mdates"
      ]
    },
    {
      "cell_type": "markdown",
      "source": [
        "\n",
        "\n",
        "---\n",
        "\n",
        "\n",
        "CUATRO CANALES DE ***THINGSPEAK*** CON SUS RESPECTIVAS ***APIs*** \n",
        "\n",
        "---\n",
        "\n"
      ],
      "metadata": {
        "id": "x_yV12DKniDz"
      },
      "id": "x_yV12DKniDz"
    },
    {
      "cell_type": "code",
      "execution_count": null,
      "id": "43e54efa-7877-48e9-8d60-1c2e42c8eb76",
      "metadata": {
        "id": "43e54efa-7877-48e9-8d60-1c2e42c8eb76"
      },
      "outputs": [],
      "source": [
        "canales=[ \"https://api.thingspeak.com/channels/1795144/feeds.csv?api_key=ETPVXJBUS5L9MCAU\", \n",
        "         'https://api.thingspeak.com/channels/1801920/feeds.csv?api_key=BKUIR2YA6C7DXYWP',\n",
        "         'https://api.thingspeak.com/channels/1801921/feeds.csv?api_key=CB11V75KNDIOA7BH',\n",
        "         'https://api.thingspeak.com/channels/1801923/feeds.json?api_key=OZWH24YZO14O0UA3']\n",
        "         "
      ]
    },
    {
      "cell_type": "markdown",
      "source": [
        "Canal_1=ÁGORA, Canal_2=HOGAR, Canal_3=AULA_5, Canal_4=AULA_10"
      ],
      "metadata": {
        "id": "weGy4G9lSwEz"
      },
      "id": "weGy4G9lSwEz"
    },
    {
      "cell_type": "markdown",
      "source": [
        "\n",
        "\n",
        "---\n",
        "\n",
        "\n",
        "ELECCIóN DEL CANAL A ANALIZAR\n",
        "\n",
        "---\n",
        "\n"
      ],
      "metadata": {
        "id": "LCachY_eoXtf"
      },
      "id": "LCachY_eoXtf"
    },
    {
      "cell_type": "code",
      "execution_count": null,
      "id": "b6cde6ce-9429-4e20-927b-99c5d86f4db8",
      "metadata": {
        "colab": {
          "base_uri": "https://localhost:8080/"
        },
        "id": "b6cde6ce-9429-4e20-927b-99c5d86f4db8",
        "outputId": "7d1ff9ab-57a7-4030-f998-5d1a8aeba4a7"
      },
      "outputs": [
        {
          "name": "stdout",
          "output_type": "stream",
          "text": [
            "Qué canal analizamos??2\n"
          ]
        }
      ],
      "source": [
        "numero = int(input('Qué canal analizamos??'))\n",
        "canal = canales[numero-1]"
      ]
    },
    {
      "cell_type": "markdown",
      "source": [
        "\n",
        "\n",
        "---\n",
        "\n",
        "\n",
        "LEEMOS EL ***csv*** DE DATOS DE ***THINGSPEAK*** Y CREAMOS UN ***dataframe*** CON ***pandas***\n",
        "\n",
        "---\n",
        "\n"
      ],
      "metadata": {
        "id": "5Jd3FFADoeHu"
      },
      "id": "5Jd3FFADoeHu"
    },
    {
      "cell_type": "code",
      "execution_count": null,
      "id": "ac10d7a4-7061-4214-b51f-ad63d07bd2e4",
      "metadata": {
        "colab": {
          "base_uri": "https://localhost:8080/"
        },
        "id": "ac10d7a4-7061-4214-b51f-ad63d07bd2e4",
        "outputId": "0b5ef71a-6458-400d-ffcc-bd66eee258b2"
      },
      "outputs": [
        {
          "output_type": "execute_result",
          "data": {
            "text/plain": [
              "Index(['created_at', 'entry_id', 'field1', 'field2', 'field3'], dtype='object')"
            ]
          },
          "metadata": {},
          "execution_count": 12
        }
      ],
      "source": [
        "df = pd.read_csv(canal)\n",
        "df.columns"
      ]
    },
    {
      "cell_type": "code",
      "execution_count": null,
      "id": "781cf2ef-8a74-4135-a7d0-1addc33d9e36",
      "metadata": {
        "id": "781cf2ef-8a74-4135-a7d0-1addc33d9e36"
      },
      "outputs": [],
      "source": [
        "#df = pd.read_csv(\"https://api.thingspeak.com/channels/1801923/feeds.csv?api_key=OZWH24YZO14O0UA3&start=2022-11-09%2022:21:50&end=2022-11-09%2022:22:00\")\n",
        "#df.columns"
      ]
    },
    {
      "cell_type": "markdown",
      "source": [
        "\n",
        "\n",
        "---\n",
        "\n",
        "\n",
        "RENOMBRAMOS LAS COLUMNAS DEL ***dataframe***\n",
        "\n",
        "---\n",
        "\n"
      ],
      "metadata": {
        "id": "z1ptjN5ko0o_"
      },
      "id": "z1ptjN5ko0o_"
    },
    {
      "cell_type": "code",
      "execution_count": null,
      "id": "dbc60a21-9fee-44c5-8f71-a1da0692f492",
      "metadata": {
        "colab": {
          "base_uri": "https://localhost:8080/",
          "height": 206
        },
        "id": "dbc60a21-9fee-44c5-8f71-a1da0692f492",
        "outputId": "8f91d465-98e4-425a-f664-858d30628fc0"
      },
      "outputs": [
        {
          "output_type": "execute_result",
          "data": {
            "text/plain": [
              "                     FECHA  Id_número   CO2(ppm)  Temperatura(ºC)  Humedad(%)\n",
              "0  2022-11-12 19:14:48 UTC     152268  241.62610             31.2        54.3\n",
              "1  2022-11-12 19:15:09 UTC     152269  246.58568             31.1        54.4\n",
              "2  2022-11-12 19:15:30 UTC     152270  286.11163             31.1        54.3\n",
              "3  2022-11-12 19:15:52 UTC     152271  286.11163             31.1        54.3\n",
              "4  2022-11-12 19:16:13 UTC     152272  286.11163             31.2        54.4"
            ],
            "text/html": [
              "\n",
              "  <div id=\"df-edc63a42-2bfd-4fd3-ad25-33f3cbc79b8c\">\n",
              "    <div class=\"colab-df-container\">\n",
              "      <div>\n",
              "<style scoped>\n",
              "    .dataframe tbody tr th:only-of-type {\n",
              "        vertical-align: middle;\n",
              "    }\n",
              "\n",
              "    .dataframe tbody tr th {\n",
              "        vertical-align: top;\n",
              "    }\n",
              "\n",
              "    .dataframe thead th {\n",
              "        text-align: right;\n",
              "    }\n",
              "</style>\n",
              "<table border=\"1\" class=\"dataframe\">\n",
              "  <thead>\n",
              "    <tr style=\"text-align: right;\">\n",
              "      <th></th>\n",
              "      <th>FECHA</th>\n",
              "      <th>Id_número</th>\n",
              "      <th>CO2(ppm)</th>\n",
              "      <th>Temperatura(ºC)</th>\n",
              "      <th>Humedad(%)</th>\n",
              "    </tr>\n",
              "  </thead>\n",
              "  <tbody>\n",
              "    <tr>\n",
              "      <th>0</th>\n",
              "      <td>2022-11-12 19:14:48 UTC</td>\n",
              "      <td>152268</td>\n",
              "      <td>241.62610</td>\n",
              "      <td>31.2</td>\n",
              "      <td>54.3</td>\n",
              "    </tr>\n",
              "    <tr>\n",
              "      <th>1</th>\n",
              "      <td>2022-11-12 19:15:09 UTC</td>\n",
              "      <td>152269</td>\n",
              "      <td>246.58568</td>\n",
              "      <td>31.1</td>\n",
              "      <td>54.4</td>\n",
              "    </tr>\n",
              "    <tr>\n",
              "      <th>2</th>\n",
              "      <td>2022-11-12 19:15:30 UTC</td>\n",
              "      <td>152270</td>\n",
              "      <td>286.11163</td>\n",
              "      <td>31.1</td>\n",
              "      <td>54.3</td>\n",
              "    </tr>\n",
              "    <tr>\n",
              "      <th>3</th>\n",
              "      <td>2022-11-12 19:15:52 UTC</td>\n",
              "      <td>152271</td>\n",
              "      <td>286.11163</td>\n",
              "      <td>31.1</td>\n",
              "      <td>54.3</td>\n",
              "    </tr>\n",
              "    <tr>\n",
              "      <th>4</th>\n",
              "      <td>2022-11-12 19:16:13 UTC</td>\n",
              "      <td>152272</td>\n",
              "      <td>286.11163</td>\n",
              "      <td>31.2</td>\n",
              "      <td>54.4</td>\n",
              "    </tr>\n",
              "  </tbody>\n",
              "</table>\n",
              "</div>\n",
              "      <button class=\"colab-df-convert\" onclick=\"convertToInteractive('df-edc63a42-2bfd-4fd3-ad25-33f3cbc79b8c')\"\n",
              "              title=\"Convert this dataframe to an interactive table.\"\n",
              "              style=\"display:none;\">\n",
              "        \n",
              "  <svg xmlns=\"http://www.w3.org/2000/svg\" height=\"24px\"viewBox=\"0 0 24 24\"\n",
              "       width=\"24px\">\n",
              "    <path d=\"M0 0h24v24H0V0z\" fill=\"none\"/>\n",
              "    <path d=\"M18.56 5.44l.94 2.06.94-2.06 2.06-.94-2.06-.94-.94-2.06-.94 2.06-2.06.94zm-11 1L8.5 8.5l.94-2.06 2.06-.94-2.06-.94L8.5 2.5l-.94 2.06-2.06.94zm10 10l.94 2.06.94-2.06 2.06-.94-2.06-.94-.94-2.06-.94 2.06-2.06.94z\"/><path d=\"M17.41 7.96l-1.37-1.37c-.4-.4-.92-.59-1.43-.59-.52 0-1.04.2-1.43.59L10.3 9.45l-7.72 7.72c-.78.78-.78 2.05 0 2.83L4 21.41c.39.39.9.59 1.41.59.51 0 1.02-.2 1.41-.59l7.78-7.78 2.81-2.81c.8-.78.8-2.07 0-2.86zM5.41 20L4 18.59l7.72-7.72 1.47 1.35L5.41 20z\"/>\n",
              "  </svg>\n",
              "      </button>\n",
              "      \n",
              "  <style>\n",
              "    .colab-df-container {\n",
              "      display:flex;\n",
              "      flex-wrap:wrap;\n",
              "      gap: 12px;\n",
              "    }\n",
              "\n",
              "    .colab-df-convert {\n",
              "      background-color: #E8F0FE;\n",
              "      border: none;\n",
              "      border-radius: 50%;\n",
              "      cursor: pointer;\n",
              "      display: none;\n",
              "      fill: #1967D2;\n",
              "      height: 32px;\n",
              "      padding: 0 0 0 0;\n",
              "      width: 32px;\n",
              "    }\n",
              "\n",
              "    .colab-df-convert:hover {\n",
              "      background-color: #E2EBFA;\n",
              "      box-shadow: 0px 1px 2px rgba(60, 64, 67, 0.3), 0px 1px 3px 1px rgba(60, 64, 67, 0.15);\n",
              "      fill: #174EA6;\n",
              "    }\n",
              "\n",
              "    [theme=dark] .colab-df-convert {\n",
              "      background-color: #3B4455;\n",
              "      fill: #D2E3FC;\n",
              "    }\n",
              "\n",
              "    [theme=dark] .colab-df-convert:hover {\n",
              "      background-color: #434B5C;\n",
              "      box-shadow: 0px 1px 3px 1px rgba(0, 0, 0, 0.15);\n",
              "      filter: drop-shadow(0px 1px 2px rgba(0, 0, 0, 0.3));\n",
              "      fill: #FFFFFF;\n",
              "    }\n",
              "  </style>\n",
              "\n",
              "      <script>\n",
              "        const buttonEl =\n",
              "          document.querySelector('#df-edc63a42-2bfd-4fd3-ad25-33f3cbc79b8c button.colab-df-convert');\n",
              "        buttonEl.style.display =\n",
              "          google.colab.kernel.accessAllowed ? 'block' : 'none';\n",
              "\n",
              "        async function convertToInteractive(key) {\n",
              "          const element = document.querySelector('#df-edc63a42-2bfd-4fd3-ad25-33f3cbc79b8c');\n",
              "          const dataTable =\n",
              "            await google.colab.kernel.invokeFunction('convertToInteractive',\n",
              "                                                     [key], {});\n",
              "          if (!dataTable) return;\n",
              "\n",
              "          const docLinkHtml = 'Like what you see? Visit the ' +\n",
              "            '<a target=\"_blank\" href=https://colab.research.google.com/notebooks/data_table.ipynb>data table notebook</a>'\n",
              "            + ' to learn more about interactive tables.';\n",
              "          element.innerHTML = '';\n",
              "          dataTable['output_type'] = 'display_data';\n",
              "          await google.colab.output.renderOutput(dataTable, element);\n",
              "          const docLink = document.createElement('div');\n",
              "          docLink.innerHTML = docLinkHtml;\n",
              "          element.appendChild(docLink);\n",
              "        }\n",
              "      </script>\n",
              "    </div>\n",
              "  </div>\n",
              "  "
            ]
          },
          "metadata": {},
          "execution_count": 14
        }
      ],
      "source": [
        "columnas =['FECHA','Id_número','CO2(ppm)','Temperatura(ºC)','Humedad(%)']\n",
        "df_final = df.set_axis(columnas, axis=1)\n",
        "df_final.head()"
      ]
    },
    {
      "cell_type": "code",
      "execution_count": null,
      "id": "5797cf3e-2943-4132-aa41-6e4000234e28",
      "metadata": {
        "id": "5797cf3e-2943-4132-aa41-6e4000234e28"
      },
      "outputs": [],
      "source": [
        "#df.rename({'creates_at':'FECHA','entry_id':'Id_número','field1':'CO2(ppm)','field2':'Temperatura(ºC)','field3':'Humedad(%)'}, axis=1)"
      ]
    },
    {
      "cell_type": "markdown",
      "source": [
        "\n",
        "\n",
        "---\n",
        "\n",
        "\n",
        "TIPOS DE DATOS DEL ***dataframe***\n",
        "\n",
        "---\n",
        "\n"
      ],
      "metadata": {
        "id": "jdZSHNRptw0C"
      },
      "id": "jdZSHNRptw0C"
    },
    {
      "cell_type": "code",
      "execution_count": null,
      "id": "bad7e668-239f-4bcd-9ae8-d36694844c1e",
      "metadata": {
        "colab": {
          "base_uri": "https://localhost:8080/"
        },
        "id": "bad7e668-239f-4bcd-9ae8-d36694844c1e",
        "outputId": "c026844e-d66d-4439-8d0f-4819d9c87abe"
      },
      "outputs": [
        {
          "output_type": "execute_result",
          "data": {
            "text/plain": [
              "FECHA               object\n",
              "Id_número            int64\n",
              "CO2(ppm)           float64\n",
              "Temperatura(ºC)    float64\n",
              "Humedad(%)         float64\n",
              "dtype: object"
            ]
          },
          "metadata": {},
          "execution_count": 16
        }
      ],
      "source": [
        "df_final.dtypes"
      ]
    },
    {
      "cell_type": "markdown",
      "source": [
        "\n",
        "\n",
        "---\n",
        "\n",
        "\n",
        "CREAMOS ***MATRIZ ESTADíSTICA DESCRIPTIVA*** DE ***CO2(ppm), TEMPERATURA(ºC) Y HUMEDAD(%)***\n",
        "\n",
        "---\n",
        "\n"
      ],
      "metadata": {
        "id": "TG61tMCJpAim"
      },
      "id": "TG61tMCJpAim"
    },
    {
      "cell_type": "code",
      "execution_count": null,
      "id": "e2a939f0-2f60-443b-9778-dd1ca7aae749",
      "metadata": {
        "colab": {
          "base_uri": "https://localhost:8080/",
          "height": 300
        },
        "id": "e2a939f0-2f60-443b-9778-dd1ca7aae749",
        "outputId": "e3b80304-de9c-4709-9ceb-d3d8d45a7208"
      },
      "outputs": [
        {
          "output_type": "execute_result",
          "data": {
            "text/plain": [
              "           Id_número    CO2(ppm)  Temperatura(ºC)  Humedad(%)\n",
              "count     100.000000  100.000000        95.000000   95.000000\n",
              "mean   152317.500000  254.589425        31.169474   54.385263\n",
              "std        29.011492   30.578604         0.052741    0.083753\n",
              "min    152268.000000  191.602600        31.100000   54.200000\n",
              "25%    152292.750000  231.918750        31.100000   54.300000\n",
              "50%    152317.500000  272.471010        31.200000   54.400000\n",
              "75%    152342.250000  280.598420        31.200000   54.400000\n",
              "max    152367.000000  288.897000        31.300000   54.600000"
            ],
            "text/html": [
              "\n",
              "  <div id=\"df-136c1f79-f865-42b8-9205-e1de4615747a\">\n",
              "    <div class=\"colab-df-container\">\n",
              "      <div>\n",
              "<style scoped>\n",
              "    .dataframe tbody tr th:only-of-type {\n",
              "        vertical-align: middle;\n",
              "    }\n",
              "\n",
              "    .dataframe tbody tr th {\n",
              "        vertical-align: top;\n",
              "    }\n",
              "\n",
              "    .dataframe thead th {\n",
              "        text-align: right;\n",
              "    }\n",
              "</style>\n",
              "<table border=\"1\" class=\"dataframe\">\n",
              "  <thead>\n",
              "    <tr style=\"text-align: right;\">\n",
              "      <th></th>\n",
              "      <th>Id_número</th>\n",
              "      <th>CO2(ppm)</th>\n",
              "      <th>Temperatura(ºC)</th>\n",
              "      <th>Humedad(%)</th>\n",
              "    </tr>\n",
              "  </thead>\n",
              "  <tbody>\n",
              "    <tr>\n",
              "      <th>count</th>\n",
              "      <td>100.000000</td>\n",
              "      <td>100.000000</td>\n",
              "      <td>95.000000</td>\n",
              "      <td>95.000000</td>\n",
              "    </tr>\n",
              "    <tr>\n",
              "      <th>mean</th>\n",
              "      <td>152317.500000</td>\n",
              "      <td>254.589425</td>\n",
              "      <td>31.169474</td>\n",
              "      <td>54.385263</td>\n",
              "    </tr>\n",
              "    <tr>\n",
              "      <th>std</th>\n",
              "      <td>29.011492</td>\n",
              "      <td>30.578604</td>\n",
              "      <td>0.052741</td>\n",
              "      <td>0.083753</td>\n",
              "    </tr>\n",
              "    <tr>\n",
              "      <th>min</th>\n",
              "      <td>152268.000000</td>\n",
              "      <td>191.602600</td>\n",
              "      <td>31.100000</td>\n",
              "      <td>54.200000</td>\n",
              "    </tr>\n",
              "    <tr>\n",
              "      <th>25%</th>\n",
              "      <td>152292.750000</td>\n",
              "      <td>231.918750</td>\n",
              "      <td>31.100000</td>\n",
              "      <td>54.300000</td>\n",
              "    </tr>\n",
              "    <tr>\n",
              "      <th>50%</th>\n",
              "      <td>152317.500000</td>\n",
              "      <td>272.471010</td>\n",
              "      <td>31.200000</td>\n",
              "      <td>54.400000</td>\n",
              "    </tr>\n",
              "    <tr>\n",
              "      <th>75%</th>\n",
              "      <td>152342.250000</td>\n",
              "      <td>280.598420</td>\n",
              "      <td>31.200000</td>\n",
              "      <td>54.400000</td>\n",
              "    </tr>\n",
              "    <tr>\n",
              "      <th>max</th>\n",
              "      <td>152367.000000</td>\n",
              "      <td>288.897000</td>\n",
              "      <td>31.300000</td>\n",
              "      <td>54.600000</td>\n",
              "    </tr>\n",
              "  </tbody>\n",
              "</table>\n",
              "</div>\n",
              "      <button class=\"colab-df-convert\" onclick=\"convertToInteractive('df-136c1f79-f865-42b8-9205-e1de4615747a')\"\n",
              "              title=\"Convert this dataframe to an interactive table.\"\n",
              "              style=\"display:none;\">\n",
              "        \n",
              "  <svg xmlns=\"http://www.w3.org/2000/svg\" height=\"24px\"viewBox=\"0 0 24 24\"\n",
              "       width=\"24px\">\n",
              "    <path d=\"M0 0h24v24H0V0z\" fill=\"none\"/>\n",
              "    <path d=\"M18.56 5.44l.94 2.06.94-2.06 2.06-.94-2.06-.94-.94-2.06-.94 2.06-2.06.94zm-11 1L8.5 8.5l.94-2.06 2.06-.94-2.06-.94L8.5 2.5l-.94 2.06-2.06.94zm10 10l.94 2.06.94-2.06 2.06-.94-2.06-.94-.94-2.06-.94 2.06-2.06.94z\"/><path d=\"M17.41 7.96l-1.37-1.37c-.4-.4-.92-.59-1.43-.59-.52 0-1.04.2-1.43.59L10.3 9.45l-7.72 7.72c-.78.78-.78 2.05 0 2.83L4 21.41c.39.39.9.59 1.41.59.51 0 1.02-.2 1.41-.59l7.78-7.78 2.81-2.81c.8-.78.8-2.07 0-2.86zM5.41 20L4 18.59l7.72-7.72 1.47 1.35L5.41 20z\"/>\n",
              "  </svg>\n",
              "      </button>\n",
              "      \n",
              "  <style>\n",
              "    .colab-df-container {\n",
              "      display:flex;\n",
              "      flex-wrap:wrap;\n",
              "      gap: 12px;\n",
              "    }\n",
              "\n",
              "    .colab-df-convert {\n",
              "      background-color: #E8F0FE;\n",
              "      border: none;\n",
              "      border-radius: 50%;\n",
              "      cursor: pointer;\n",
              "      display: none;\n",
              "      fill: #1967D2;\n",
              "      height: 32px;\n",
              "      padding: 0 0 0 0;\n",
              "      width: 32px;\n",
              "    }\n",
              "\n",
              "    .colab-df-convert:hover {\n",
              "      background-color: #E2EBFA;\n",
              "      box-shadow: 0px 1px 2px rgba(60, 64, 67, 0.3), 0px 1px 3px 1px rgba(60, 64, 67, 0.15);\n",
              "      fill: #174EA6;\n",
              "    }\n",
              "\n",
              "    [theme=dark] .colab-df-convert {\n",
              "      background-color: #3B4455;\n",
              "      fill: #D2E3FC;\n",
              "    }\n",
              "\n",
              "    [theme=dark] .colab-df-convert:hover {\n",
              "      background-color: #434B5C;\n",
              "      box-shadow: 0px 1px 3px 1px rgba(0, 0, 0, 0.15);\n",
              "      filter: drop-shadow(0px 1px 2px rgba(0, 0, 0, 0.3));\n",
              "      fill: #FFFFFF;\n",
              "    }\n",
              "  </style>\n",
              "\n",
              "      <script>\n",
              "        const buttonEl =\n",
              "          document.querySelector('#df-136c1f79-f865-42b8-9205-e1de4615747a button.colab-df-convert');\n",
              "        buttonEl.style.display =\n",
              "          google.colab.kernel.accessAllowed ? 'block' : 'none';\n",
              "\n",
              "        async function convertToInteractive(key) {\n",
              "          const element = document.querySelector('#df-136c1f79-f865-42b8-9205-e1de4615747a');\n",
              "          const dataTable =\n",
              "            await google.colab.kernel.invokeFunction('convertToInteractive',\n",
              "                                                     [key], {});\n",
              "          if (!dataTable) return;\n",
              "\n",
              "          const docLinkHtml = 'Like what you see? Visit the ' +\n",
              "            '<a target=\"_blank\" href=https://colab.research.google.com/notebooks/data_table.ipynb>data table notebook</a>'\n",
              "            + ' to learn more about interactive tables.';\n",
              "          element.innerHTML = '';\n",
              "          dataTable['output_type'] = 'display_data';\n",
              "          await google.colab.output.renderOutput(dataTable, element);\n",
              "          const docLink = document.createElement('div');\n",
              "          docLink.innerHTML = docLinkHtml;\n",
              "          element.appendChild(docLink);\n",
              "        }\n",
              "      </script>\n",
              "    </div>\n",
              "  </div>\n",
              "  "
            ]
          },
          "metadata": {},
          "execution_count": 17
        }
      ],
      "source": [
        "df_final.describe()"
      ]
    },
    {
      "cell_type": "markdown",
      "source": [
        "\n",
        "\n",
        "---\n",
        "\n",
        "\n",
        "ESTABLECEMOS LA COLUMNA ***fecha*** COMO ***índice*** DEL ***dataframe***\n",
        "\n",
        "---\n",
        "\n"
      ],
      "metadata": {
        "id": "ca32gO05plDR"
      },
      "id": "ca32gO05plDR"
    },
    {
      "cell_type": "code",
      "execution_count": null,
      "id": "72d21107-1b9a-4110-964e-3229ff738f6f",
      "metadata": {
        "colab": {
          "base_uri": "https://localhost:8080/",
          "height": 214
        },
        "id": "72d21107-1b9a-4110-964e-3229ff738f6f",
        "outputId": "e3ca53aa-f563-4b26-abaf-8081dafaec3c"
      },
      "outputs": [
        {
          "output_type": "execute_result",
          "data": {
            "text/plain": [
              "                         Id_número   CO2(ppm)  Temperatura(ºC)  Humedad(%)\n",
              "FECHA                                                                     \n",
              "2022-11-12 19:14:48 UTC     152268  241.62610             31.2        54.3\n",
              "2022-11-12 19:15:09 UTC     152269  246.58568             31.1        54.4\n",
              "2022-11-12 19:15:30 UTC     152270  286.11163             31.1        54.3\n",
              "2022-11-12 19:15:52 UTC     152271  286.11163             31.1        54.3\n",
              "2022-11-12 19:16:13 UTC     152272  286.11163             31.2        54.4"
            ],
            "text/html": [
              "\n",
              "  <div id=\"df-b5fa5457-a9b4-446c-a18a-8f6fd1e312be\">\n",
              "    <div class=\"colab-df-container\">\n",
              "      <div>\n",
              "<style scoped>\n",
              "    .dataframe tbody tr th:only-of-type {\n",
              "        vertical-align: middle;\n",
              "    }\n",
              "\n",
              "    .dataframe tbody tr th {\n",
              "        vertical-align: top;\n",
              "    }\n",
              "\n",
              "    .dataframe thead th {\n",
              "        text-align: right;\n",
              "    }\n",
              "</style>\n",
              "<table border=\"1\" class=\"dataframe\">\n",
              "  <thead>\n",
              "    <tr style=\"text-align: right;\">\n",
              "      <th></th>\n",
              "      <th>Id_número</th>\n",
              "      <th>CO2(ppm)</th>\n",
              "      <th>Temperatura(ºC)</th>\n",
              "      <th>Humedad(%)</th>\n",
              "    </tr>\n",
              "    <tr>\n",
              "      <th>FECHA</th>\n",
              "      <th></th>\n",
              "      <th></th>\n",
              "      <th></th>\n",
              "      <th></th>\n",
              "    </tr>\n",
              "  </thead>\n",
              "  <tbody>\n",
              "    <tr>\n",
              "      <th>2022-11-12 19:14:48 UTC</th>\n",
              "      <td>152268</td>\n",
              "      <td>241.62610</td>\n",
              "      <td>31.2</td>\n",
              "      <td>54.3</td>\n",
              "    </tr>\n",
              "    <tr>\n",
              "      <th>2022-11-12 19:15:09 UTC</th>\n",
              "      <td>152269</td>\n",
              "      <td>246.58568</td>\n",
              "      <td>31.1</td>\n",
              "      <td>54.4</td>\n",
              "    </tr>\n",
              "    <tr>\n",
              "      <th>2022-11-12 19:15:30 UTC</th>\n",
              "      <td>152270</td>\n",
              "      <td>286.11163</td>\n",
              "      <td>31.1</td>\n",
              "      <td>54.3</td>\n",
              "    </tr>\n",
              "    <tr>\n",
              "      <th>2022-11-12 19:15:52 UTC</th>\n",
              "      <td>152271</td>\n",
              "      <td>286.11163</td>\n",
              "      <td>31.1</td>\n",
              "      <td>54.3</td>\n",
              "    </tr>\n",
              "    <tr>\n",
              "      <th>2022-11-12 19:16:13 UTC</th>\n",
              "      <td>152272</td>\n",
              "      <td>286.11163</td>\n",
              "      <td>31.2</td>\n",
              "      <td>54.4</td>\n",
              "    </tr>\n",
              "  </tbody>\n",
              "</table>\n",
              "</div>\n",
              "      <button class=\"colab-df-convert\" onclick=\"convertToInteractive('df-b5fa5457-a9b4-446c-a18a-8f6fd1e312be')\"\n",
              "              title=\"Convert this dataframe to an interactive table.\"\n",
              "              style=\"display:none;\">\n",
              "        \n",
              "  <svg xmlns=\"http://www.w3.org/2000/svg\" height=\"24px\"viewBox=\"0 0 24 24\"\n",
              "       width=\"24px\">\n",
              "    <path d=\"M0 0h24v24H0V0z\" fill=\"none\"/>\n",
              "    <path d=\"M18.56 5.44l.94 2.06.94-2.06 2.06-.94-2.06-.94-.94-2.06-.94 2.06-2.06.94zm-11 1L8.5 8.5l.94-2.06 2.06-.94-2.06-.94L8.5 2.5l-.94 2.06-2.06.94zm10 10l.94 2.06.94-2.06 2.06-.94-2.06-.94-.94-2.06-.94 2.06-2.06.94z\"/><path d=\"M17.41 7.96l-1.37-1.37c-.4-.4-.92-.59-1.43-.59-.52 0-1.04.2-1.43.59L10.3 9.45l-7.72 7.72c-.78.78-.78 2.05 0 2.83L4 21.41c.39.39.9.59 1.41.59.51 0 1.02-.2 1.41-.59l7.78-7.78 2.81-2.81c.8-.78.8-2.07 0-2.86zM5.41 20L4 18.59l7.72-7.72 1.47 1.35L5.41 20z\"/>\n",
              "  </svg>\n",
              "      </button>\n",
              "      \n",
              "  <style>\n",
              "    .colab-df-container {\n",
              "      display:flex;\n",
              "      flex-wrap:wrap;\n",
              "      gap: 12px;\n",
              "    }\n",
              "\n",
              "    .colab-df-convert {\n",
              "      background-color: #E8F0FE;\n",
              "      border: none;\n",
              "      border-radius: 50%;\n",
              "      cursor: pointer;\n",
              "      display: none;\n",
              "      fill: #1967D2;\n",
              "      height: 32px;\n",
              "      padding: 0 0 0 0;\n",
              "      width: 32px;\n",
              "    }\n",
              "\n",
              "    .colab-df-convert:hover {\n",
              "      background-color: #E2EBFA;\n",
              "      box-shadow: 0px 1px 2px rgba(60, 64, 67, 0.3), 0px 1px 3px 1px rgba(60, 64, 67, 0.15);\n",
              "      fill: #174EA6;\n",
              "    }\n",
              "\n",
              "    [theme=dark] .colab-df-convert {\n",
              "      background-color: #3B4455;\n",
              "      fill: #D2E3FC;\n",
              "    }\n",
              "\n",
              "    [theme=dark] .colab-df-convert:hover {\n",
              "      background-color: #434B5C;\n",
              "      box-shadow: 0px 1px 3px 1px rgba(0, 0, 0, 0.15);\n",
              "      filter: drop-shadow(0px 1px 2px rgba(0, 0, 0, 0.3));\n",
              "      fill: #FFFFFF;\n",
              "    }\n",
              "  </style>\n",
              "\n",
              "      <script>\n",
              "        const buttonEl =\n",
              "          document.querySelector('#df-b5fa5457-a9b4-446c-a18a-8f6fd1e312be button.colab-df-convert');\n",
              "        buttonEl.style.display =\n",
              "          google.colab.kernel.accessAllowed ? 'block' : 'none';\n",
              "\n",
              "        async function convertToInteractive(key) {\n",
              "          const element = document.querySelector('#df-b5fa5457-a9b4-446c-a18a-8f6fd1e312be');\n",
              "          const dataTable =\n",
              "            await google.colab.kernel.invokeFunction('convertToInteractive',\n",
              "                                                     [key], {});\n",
              "          if (!dataTable) return;\n",
              "\n",
              "          const docLinkHtml = 'Like what you see? Visit the ' +\n",
              "            '<a target=\"_blank\" href=https://colab.research.google.com/notebooks/data_table.ipynb>data table notebook</a>'\n",
              "            + ' to learn more about interactive tables.';\n",
              "          element.innerHTML = '';\n",
              "          dataTable['output_type'] = 'display_data';\n",
              "          await google.colab.output.renderOutput(dataTable, element);\n",
              "          const docLink = document.createElement('div');\n",
              "          docLink.innerHTML = docLinkHtml;\n",
              "          element.appendChild(docLink);\n",
              "        }\n",
              "      </script>\n",
              "    </div>\n",
              "  </div>\n",
              "  "
            ]
          },
          "metadata": {},
          "execution_count": 18
        }
      ],
      "source": [
        "df_final.set_index('FECHA', inplace = True)\n",
        "df_final.head()"
      ]
    },
    {
      "cell_type": "markdown",
      "source": [
        "\n",
        "\n",
        "---\n",
        "\n",
        "\n",
        "CREAMOS UN ***heatmap*** CON LA LIBRERíA ***seaborn*** QUE NOS DA LAS CORRELACIONES ENTRE LAS VARIABLES DEL ***dataframe***\n",
        "\n",
        "---\n",
        "\n"
      ],
      "metadata": {
        "id": "8y2rpcgMqBTW"
      },
      "id": "8y2rpcgMqBTW"
    },
    {
      "cell_type": "code",
      "execution_count": null,
      "id": "804a2169-c611-4ab9-b291-94134fbb08de",
      "metadata": {
        "colab": {
          "base_uri": "https://localhost:8080/",
          "height": 450
        },
        "id": "804a2169-c611-4ab9-b291-94134fbb08de",
        "outputId": "15de8d38-4296-4ba4-ba3a-b008ead243bc"
      },
      "outputs": [
        {
          "output_type": "execute_result",
          "data": {
            "text/plain": [
              "<matplotlib.axes._subplots.AxesSubplot at 0x7fdb6ef59610>"
            ]
          },
          "metadata": {},
          "execution_count": 21
        },
        {
          "output_type": "display_data",
          "data": {
            "text/plain": [
              "<Figure size 504x504 with 2 Axes>"
            ],
            "image/png": "[encoded data removed]"
          },
          "metadata": {
            "needs_background": "light"
          }
        }
      ],
      "source": [
        "#heatmap\n",
        "\n",
        "plt.figure(figsize = (7,7))\n",
        "sns.heatmap(df_final[['CO2(ppm)','Temperatura(ºC)','Humedad(%)']].corr(),annot=True, cmap='Blues')"
      ]
    },
    {
      "cell_type": "markdown",
      "source": [
        "\n",
        "\n",
        "---\n",
        "AGRUPAR DATOS DE LOS ***CUATRO CANALES DE THINGSPEAK***\n",
        "\n",
        "\n",
        "---\n",
        "\n"
      ],
      "metadata": {
        "id": "aEkSruJelld0"
      },
      "id": "aEkSruJelld0"
    },
    {
      "cell_type": "code",
      "execution_count": null,
      "id": "2dea3b4f-9528-4464-b8ea-f71a1e0c2d77",
      "metadata": {
        "id": "2dea3b4f-9528-4464-b8ea-f71a1e0c2d77"
      },
      "outputs": [],
      "source": []
    }
  ],
  "metadata": {
    "kernelspec": {
      "display_name": "Python 3 (ipykernel)",
      "language": "python",
      "name": "python3"
    },
    "language_info": {
      "codemirror_mode": {
        "name": "ipython",
        "version": 3
      },
      "file_extension": ".py",
      "mimetype": "text/x-python",
      "name": "python",
      "nbconvert_exporter": "python",
      "pygments_lexer": "ipython3",
      "version": "3.7.4"
    },
    "colab": {
      "provenance": [],
      "include_colab_link": true
    }
  },
  "nbformat": 4,
  "nbformat_minor": 5
}